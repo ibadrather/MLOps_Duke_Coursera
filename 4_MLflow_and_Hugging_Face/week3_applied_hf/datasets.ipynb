{
 "cells": [
  {
   "cell_type": "code",
   "execution_count": 1,
   "metadata": {},
   "outputs": [
    {
     "name": "stderr",
     "output_type": "stream",
     "text": [
      "/home/ibad/Desktop/MLOps_Duke_Coursera/venv/lib/python3.10/site-packages/tqdm/auto.py:21: TqdmWarning: IProgress not found. Please update jupyter and ipywidgets. See https://ipywidgets.readthedocs.io/en/stable/user_install.html\n",
      "  from .autonotebook import tqdm as notebook_tqdm\n",
      "Downloading readme: 100%|██████████| 502/502 [00:00<00:00, 4.10MB/s]\n"
     ]
    },
    {
     "name": "stdout",
     "output_type": "stream",
     "text": [
      "Downloading and preparing dataset None/None to /home/ibad/.cache/huggingface/datasets/alfredodeza___csv/alfredodeza--wine-ratings-7b131fffc73ec9d3/0.0.0/6954658bab30a358235fa864b05cf819af0e179325c740e4bc853bcc7ec513e1...\n"
     ]
    },
    {
     "name": "stderr",
     "output_type": "stream",
     "text": [
      "Downloading data: 100%|██████████| 13.3M/13.3M [00:01<00:00, 10.4MB/s]\n",
      "Downloading data: 100%|██████████| 81.6k/81.6k [00:00<00:00, 730kB/s]\n",
      "Downloading data: 100%|██████████| 81.0k/81.0k [00:00<00:00, 714kB/s]\n",
      "Downloading data files: 100%|██████████| 3/3 [00:04<00:00,  1.63s/it]\n",
      "Extracting data files: 100%|██████████| 3/3 [00:00<00:00, 1712.19it/s]\n",
      "                                                                                        \r"
     ]
    },
    {
     "name": "stdout",
     "output_type": "stream",
     "text": [
      "Dataset csv downloaded and prepared to /home/ibad/.cache/huggingface/datasets/alfredodeza___csv/alfredodeza--wine-ratings-7b131fffc73ec9d3/0.0.0/6954658bab30a358235fa864b05cf819af0e179325c740e4bc853bcc7ec513e1. Subsequent calls will reuse this data.\n"
     ]
    },
    {
     "name": "stderr",
     "output_type": "stream",
     "text": [
      "100%|██████████| 3/3 [00:00<00:00, 551.06it/s]\n"
     ]
    }
   ],
   "source": [
    "from datasets import load_dataset\n",
    "\n",
    "dataset = load_dataset(\"alfredodeza/wine-ratings\")"
   ]
  },
  {
   "cell_type": "code",
   "execution_count": null,
   "metadata": {},
   "outputs": [],
   "source": [
    "dataset"
   ]
  },
  {
   "cell_type": "code",
   "execution_count": 6,
   "metadata": {},
   "outputs": [],
   "source": [
    "train_dataset = dataset[\"train\"].to_pandas()\n",
    "test_dataset = dataset[\"test\"].to_pandas()\n",
    "validation_dataset = dataset[\"validation\"].to_pandas()"
   ]
  },
  {
   "cell_type": "code",
   "execution_count": 8,
   "metadata": {},
   "outputs": [
    {
     "data": {
      "text/html": [
       "<div>\n",
       "<style scoped>\n",
       "    .dataframe tbody tr th:only-of-type {\n",
       "        vertical-align: middle;\n",
       "    }\n",
       "\n",
       "    .dataframe tbody tr th {\n",
       "        vertical-align: top;\n",
       "    }\n",
       "\n",
       "    .dataframe thead th {\n",
       "        text-align: right;\n",
       "    }\n",
       "</style>\n",
       "<table border=\"1\" class=\"dataframe\">\n",
       "  <thead>\n",
       "    <tr style=\"text-align: right;\">\n",
       "      <th></th>\n",
       "      <th>name</th>\n",
       "      <th>region</th>\n",
       "      <th>variety</th>\n",
       "      <th>rating</th>\n",
       "      <th>notes</th>\n",
       "    </tr>\n",
       "  </thead>\n",
       "  <tbody>\n",
       "    <tr>\n",
       "      <th>0</th>\n",
       "      <td>1000 Stories Bourbon Barrel Aged Batch Blue Ca...</td>\n",
       "      <td>Mendocino, California</td>\n",
       "      <td>Red Wine</td>\n",
       "      <td>91.0</td>\n",
       "      <td>This is a very special, limited release of 100...</td>\n",
       "    </tr>\n",
       "    <tr>\n",
       "      <th>1</th>\n",
       "      <td>1000 Stories Bourbon Barrel Aged Gold Rush Red...</td>\n",
       "      <td>California</td>\n",
       "      <td>Red Wine</td>\n",
       "      <td>89.0</td>\n",
       "      <td>The California Gold Rush was a period of coura...</td>\n",
       "    </tr>\n",
       "    <tr>\n",
       "      <th>2</th>\n",
       "      <td>1000 Stories Bourbon Barrel Aged Gold Rush Red...</td>\n",
       "      <td>California</td>\n",
       "      <td>Red Wine</td>\n",
       "      <td>90.0</td>\n",
       "      <td>The California Gold Rush was a period of coura...</td>\n",
       "    </tr>\n",
       "    <tr>\n",
       "      <th>3</th>\n",
       "      <td>1000 Stories Bourbon Barrel Aged Zinfandel 2013</td>\n",
       "      <td>North Coast, California</td>\n",
       "      <td>Red Wine</td>\n",
       "      <td>91.0</td>\n",
       "      <td>The wine has a deep, rich purple color. An int...</td>\n",
       "    </tr>\n",
       "    <tr>\n",
       "      <th>4</th>\n",
       "      <td>1000 Stories Bourbon Barrel Aged Zinfandel 2014</td>\n",
       "      <td>California</td>\n",
       "      <td>Red Wine</td>\n",
       "      <td>90.0</td>\n",
       "      <td>Batch #004 is the first release of the 2014 vi...</td>\n",
       "    </tr>\n",
       "    <tr>\n",
       "      <th>...</th>\n",
       "      <td>...</td>\n",
       "      <td>...</td>\n",
       "      <td>...</td>\n",
       "      <td>...</td>\n",
       "      <td>...</td>\n",
       "    </tr>\n",
       "    <tr>\n",
       "      <th>32775</th>\n",
       "      <td>Lewis Cellars Syrah Ethan's Blend 2005</td>\n",
       "      <td>California</td>\n",
       "      <td>Red Wine</td>\n",
       "      <td>92.0</td>\n",
       "      <td>Now 7 years old, Alec's younger brother Ethan ...</td>\n",
       "    </tr>\n",
       "    <tr>\n",
       "      <th>32776</th>\n",
       "      <td>Lewis Cellars Syrah Ethan's Blend 2014</td>\n",
       "      <td>California</td>\n",
       "      <td>Red Wine</td>\n",
       "      <td>93.0</td>\n",
       "      <td>Born in 2000, everything about Ethan and his n...</td>\n",
       "    </tr>\n",
       "    <tr>\n",
       "      <th>32777</th>\n",
       "      <td>Lewis Cellars Syrah Ethan's Blend 2009</td>\n",
       "      <td>California</td>\n",
       "      <td>Red Wine</td>\n",
       "      <td>94.0</td>\n",
       "      <td>Positioned between brothers, Alec and Mason, E...</td>\n",
       "    </tr>\n",
       "    <tr>\n",
       "      <th>32778</th>\n",
       "      <td>Lexington Apex Red 2011</td>\n",
       "      <td>Santa Cruz Mountains, California</td>\n",
       "      <td>Red Wine</td>\n",
       "      <td>91.0</td>\n",
       "      <td>Blend: 99% Cabernet Sauvignon, 1% Merlot</td>\n",
       "    </tr>\n",
       "    <tr>\n",
       "      <th>32779</th>\n",
       "      <td>Lexington Gist Ranch Cabernet Sauvignon 2011</td>\n",
       "      <td>Santa Cruz Mountains, California</td>\n",
       "      <td>Red Wine</td>\n",
       "      <td>91.0</td>\n",
       "      <td>Blend: 80% Cabernet Sauvignon, 20% Merlot</td>\n",
       "    </tr>\n",
       "  </tbody>\n",
       "</table>\n",
       "<p>32780 rows × 5 columns</p>\n",
       "</div>"
      ],
      "text/plain": [
       "                                                    name  \\\n",
       "0      1000 Stories Bourbon Barrel Aged Batch Blue Ca...   \n",
       "1      1000 Stories Bourbon Barrel Aged Gold Rush Red...   \n",
       "2      1000 Stories Bourbon Barrel Aged Gold Rush Red...   \n",
       "3        1000 Stories Bourbon Barrel Aged Zinfandel 2013   \n",
       "4        1000 Stories Bourbon Barrel Aged Zinfandel 2014   \n",
       "...                                                  ...   \n",
       "32775             Lewis Cellars Syrah Ethan's Blend 2005   \n",
       "32776             Lewis Cellars Syrah Ethan's Blend 2014   \n",
       "32777             Lewis Cellars Syrah Ethan's Blend 2009   \n",
       "32778                            Lexington Apex Red 2011   \n",
       "32779       Lexington Gist Ranch Cabernet Sauvignon 2011   \n",
       "\n",
       "                                 region   variety  rating  \\\n",
       "0                 Mendocino, California  Red Wine    91.0   \n",
       "1                            California  Red Wine    89.0   \n",
       "2                            California  Red Wine    90.0   \n",
       "3               North Coast, California  Red Wine    91.0   \n",
       "4                            California  Red Wine    90.0   \n",
       "...                                 ...       ...     ...   \n",
       "32775                        California  Red Wine    92.0   \n",
       "32776                        California  Red Wine    93.0   \n",
       "32777                        California  Red Wine    94.0   \n",
       "32778  Santa Cruz Mountains, California  Red Wine    91.0   \n",
       "32779  Santa Cruz Mountains, California  Red Wine    91.0   \n",
       "\n",
       "                                                   notes  \n",
       "0      This is a very special, limited release of 100...  \n",
       "1      The California Gold Rush was a period of coura...  \n",
       "2      The California Gold Rush was a period of coura...  \n",
       "3      The wine has a deep, rich purple color. An int...  \n",
       "4      Batch #004 is the first release of the 2014 vi...  \n",
       "...                                                  ...  \n",
       "32775  Now 7 years old, Alec's younger brother Ethan ...  \n",
       "32776  Born in 2000, everything about Ethan and his n...  \n",
       "32777  Positioned between brothers, Alec and Mason, E...  \n",
       "32778          Blend: 99% Cabernet Sauvignon, 1% Merlot   \n",
       "32779          Blend: 80% Cabernet Sauvignon, 20% Merlot  \n",
       "\n",
       "[32780 rows x 5 columns]"
      ]
     },
     "execution_count": 8,
     "metadata": {},
     "output_type": "execute_result"
    }
   ],
   "source": [
    "train_dataset"
   ]
  },
  {
   "cell_type": "code",
   "execution_count": 9,
   "metadata": {},
   "outputs": [],
   "source": [
    "train_dataset.to_csv(\"wine-ratings.csv\", index=False)"
   ]
  },
  {
   "cell_type": "code",
   "execution_count": null,
   "metadata": {},
   "outputs": [],
   "source": []
  }
 ],
 "metadata": {
  "kernelspec": {
   "display_name": "venv",
   "language": "python",
   "name": "python3"
  },
  "language_info": {
   "codemirror_mode": {
    "name": "ipython",
    "version": 3
   },
   "file_extension": ".py",
   "mimetype": "text/x-python",
   "name": "python",
   "nbconvert_exporter": "python",
   "pygments_lexer": "ipython3",
   "version": "3.10.6"
  },
  "orig_nbformat": 4
 },
 "nbformat": 4,
 "nbformat_minor": 2
}
