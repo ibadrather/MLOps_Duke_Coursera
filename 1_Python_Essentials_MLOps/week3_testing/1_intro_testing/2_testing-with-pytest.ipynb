{
  "cells": [
    {
      "attachments": {},
      "cell_type": "markdown",
      "metadata": {},
      "source": [
        "# Testing with Pytest\n",
        "As with any Python project, create a virtual environment:\n",
        "\n",
        "```\n",
        "$ python -m venv venv\n",
        "$ source venv/bin/activate\n",
        "```\n",
        "\n",
        "And then install Pytest:\n",
        "\n",
        "```\n",
        "$ pip install pytest\n",
        "```\n",
        "\n",
        "Add it to a `requirements.txt` file so you don't forget to install it next time"
      ]
    },
    {
      "attachments": {},
      "cell_type": "markdown",
      "metadata": {
        "id": "QDK7iRmbNUb3"
      },
      "source": [
        "### Tests can be functions or classes\n",
        "\n",
        "```python\n",
        "def test_my_function():\n",
        "  assert 1 == 1\n",
        "```\n",
        "\n",
        "Classes do not need inheritance:\n",
        "\n",
        "```python\n",
        "class TestMyClass:\n",
        "\n",
        "  def test_my_method(self):\n",
        "    assert 1 == 1\n",
        "```\n"
      ]
    },
    {
      "attachments": {},
      "cell_type": "markdown",
      "metadata": {},
      "source": [
        "## Hands-on installing and running\n",
        "For the next operations, switch to the terminal. After Pytest installation,  change directories to the `examples` directory to run `pytest`\n",
        "\n",
        "In that directory you will have a single"
      ]
    },
    {
      "cell_type": "code",
      "execution_count": 1,
      "metadata": {
        "colab": {
          "base_uri": "https://localhost:8080/"
        },
        "id": "BG1wvESCQ5mi",
        "outputId": "c9204060-3f49-4b16-a123-a01395789d9e"
      },
      "outputs": [
        {
          "name": "stdout",
          "output_type": "stream",
          "text": [
            "\u001b[1m============================= test session starts ==============================\u001b[0m\n",
            "platform linux -- Python 3.10.6, pytest-7.3.1, pluggy-1.0.0 -- /home/ibad/Desktop/MLOps_Duke_Coursera/venv/bin/python3\n",
            "cachedir: .pytest_cache\n",
            "rootdir: /home/ibad/Desktop/MLOps_Duke_Coursera/1_Python_Essentials_MLOps/week3_testing/1_intro_testing\n",
            "collected 0 items                                                              \u001b[0m\n",
            "\n",
            "\u001b[33m============================ \u001b[33mno tests ran\u001b[0m\u001b[33m in 0.00s\u001b[0m\u001b[33m =============================\u001b[0m\n",
            "\u001b[31mERROR: file or directory not found: test_util.py\n",
            "\u001b[0m\n"
          ]
        }
      ],
      "source": [
        "!pytest -vvvv test_util.py"
      ]
    },
    {
      "cell_type": "code",
      "execution_count": 2,
      "metadata": {
        "colab": {
          "base_uri": "https://localhost:8080/"
        },
        "id": "nNeTAGeeIgTw",
        "outputId": "05e376e0-beb7-41c0-86f1-918f3b3f86c2"
      },
      "outputs": [
        {
          "name": "stdout",
          "output_type": "stream",
          "text": [
            "Cloning into 'barebones'...\n",
            "remote: Enumerating objects: 63, done.\u001b[K\n",
            "remote: Counting objects: 100% (63/63), done.\u001b[K\n",
            "remote: Compressing objects: 100% (42/42), done.\u001b[K\n",
            "remote: Total 63 (delta 20), reused 34 (delta 7), pack-reused 0\u001b[K\n",
            "Receiving objects: 100% (63/63), 10.62 KiB | 10.62 MiB/s, done.\n",
            "Resolving deltas: 100% (20/20), done.\n",
            "\u001b[1;31mE: \u001b[0mCould not open lock file /var/lib/dpkg/lock-frontend - open (13: Permission denied)\u001b[0m\n",
            "\u001b[1;31mE: \u001b[0mUnable to acquire the dpkg frontend lock (/var/lib/dpkg/lock-frontend), are you root?\u001b[0m\n"
          ]
        }
      ],
      "source": [
        "!git clone https://github.com/alfredodeza/barebones\n",
        "!apt install tree"
      ]
    },
    {
      "cell_type": "code",
      "execution_count": null,
      "metadata": {
        "colab": {
          "base_uri": "https://localhost:8080/"
        },
        "id": "elgKeUAGCFVU",
        "outputId": "18dc16ae-0efb-4957-ef7e-55d1e6cfdee0"
      },
      "outputs": [
        {
          "name": "stdout",
          "output_type": "stream",
          "text": [
            "barebones\n",
            "├── bin\n",
            "│   └── jformat\n",
            "├── examples\n",
            "│   └── example.json\n",
            "├── jformat\n",
            "│   ├── __init__.py\n",
            "│   ├── main.py\n",
            "│   ├── reformat.py\n",
            "│   └── tests\n",
            "│       ├── __init__.py\n",
            "│       ├── test_main.py\n",
            "│       └── test_verify_output.py\n",
            "├── LICENSE\n",
            "└── setup.py\n",
            "\n",
            "4 directories, 10 files\n"
          ]
        }
      ],
      "source": [
        "!tree barebones"
      ]
    },
    {
      "cell_type": "code",
      "execution_count": 3,
      "metadata": {
        "colab": {
          "base_uri": "https://localhost:8080/"
        },
        "id": "6_uzdOoZCMzf",
        "outputId": "190f9a7d-e935-432b-bfa6-dedbc905dac9"
      },
      "outputs": [
        {
          "name": "stdout",
          "output_type": "stream",
          "text": [
            "Requirement already satisfied: pytest in /home/ibad/Desktop/MLOps_Duke_Coursera/venv/lib/python3.10/site-packages (7.3.1)\n",
            "Requirement already satisfied: packaging in /home/ibad/Desktop/MLOps_Duke_Coursera/venv/lib/python3.10/site-packages (from pytest) (23.1)\n",
            "Requirement already satisfied: tomli>=1.0.0 in /home/ibad/Desktop/MLOps_Duke_Coursera/venv/lib/python3.10/site-packages (from pytest) (2.0.1)\n",
            "Requirement already satisfied: pluggy<2.0,>=0.12 in /home/ibad/Desktop/MLOps_Duke_Coursera/venv/lib/python3.10/site-packages (from pytest) (1.0.0)\n",
            "Requirement already satisfied: exceptiongroup>=1.0.0rc8 in /home/ibad/Desktop/MLOps_Duke_Coursera/venv/lib/python3.10/site-packages (from pytest) (1.1.1)\n",
            "Requirement already satisfied: iniconfig in /home/ibad/Desktop/MLOps_Duke_Coursera/venv/lib/python3.10/site-packages (from pytest) (2.0.0)\n"
          ]
        }
      ],
      "source": [
        "!pip install pytest"
      ]
    },
    {
      "cell_type": "code",
      "execution_count": 4,
      "metadata": {
        "colab": {
          "base_uri": "https://localhost:8080/"
        },
        "id": "a_3KHipCIodd",
        "outputId": "3f4f1bfd-1ee3-4f47-97a9-d7f1f070ddc1"
      },
      "outputs": [
        {
          "name": "stdout",
          "output_type": "stream",
          "text": [
            "\u001b[1m============================= test session starts ==============================\u001b[0m\n",
            "platform linux -- Python 3.10.6, pytest-7.3.1, pluggy-1.0.0\n",
            "rootdir: /home/ibad/Desktop/MLOps_Duke_Coursera/1_Python_Essentials_MLOps/week3_testing/1_intro_testing/barebones\n",
            "collected 4 items                                                              \u001b[0m\n",
            "\n",
            "barebones/jformat/tests/test_main.py \u001b[32m.\u001b[0m\u001b[32m                                   [ 25%]\u001b[0m\n",
            "barebones/jformat/tests/test_verify_output.py \u001b[32m.\u001b[0m\u001b[32m.\u001b[0m\u001b[32m.\u001b[0m\u001b[33m                        [100%]\u001b[0m\n",
            "\n",
            "\u001b[33m=============================== warnings summary ===============================\u001b[0m\n",
            "jformat/tests/test_verify_output.py::TestLongComparisons::test_compare_large_strings\n",
            "  /home/ibad/Desktop/MLOps_Duke_Coursera/venv/lib/python3.10/site-packages/_pytest/fixtures.py:902: PytestRemovedIn8Warning: Support for nose tests is deprecated and will be removed in a future release.\n",
            "  jformat/tests/test_verify_output.py::TestLongComparisons::test_compare_large_strings is using nose-specific method: `setup(self)`\n",
            "  To remove this warning, rename it to `setup_method(self)`\n",
            "  See docs: https://docs.pytest.org/en/stable/deprecations.html#support-for-tests-written-for-nose\n",
            "    fixture_result = next(generator)\n",
            "\n",
            "jformat/tests/test_verify_output.py::TestLongComparisons::test_compare_large_strings\n",
            "  /home/ibad/Desktop/MLOps_Duke_Coursera/venv/lib/python3.10/site-packages/_pytest/fixtures.py:918: PytestRemovedIn8Warning: Support for nose tests is deprecated and will be removed in a future release.\n",
            "  jformat/tests/test_verify_output.py::TestLongComparisons::test_compare_large_strings is using nose-specific method: `teardown(self)`\n",
            "  To remove this warning, rename it to `teardown_method(self)`\n",
            "  See docs: https://docs.pytest.org/en/stable/deprecations.html#support-for-tests-written-for-nose\n",
            "    next(it)\n",
            "\n",
            "jformat/tests/test_verify_output.py::TestLongComparisons::test_basic\n",
            "  /home/ibad/Desktop/MLOps_Duke_Coursera/venv/lib/python3.10/site-packages/_pytest/fixtures.py:902: PytestRemovedIn8Warning: Support for nose tests is deprecated and will be removed in a future release.\n",
            "  jformat/tests/test_verify_output.py::TestLongComparisons::test_basic is using nose-specific method: `setup(self)`\n",
            "  To remove this warning, rename it to `setup_method(self)`\n",
            "  See docs: https://docs.pytest.org/en/stable/deprecations.html#support-for-tests-written-for-nose\n",
            "    fixture_result = next(generator)\n",
            "\n",
            "jformat/tests/test_verify_output.py::TestLongComparisons::test_basic\n",
            "  /home/ibad/Desktop/MLOps_Duke_Coursera/venv/lib/python3.10/site-packages/_pytest/fixtures.py:918: PytestRemovedIn8Warning: Support for nose tests is deprecated and will be removed in a future release.\n",
            "  jformat/tests/test_verify_output.py::TestLongComparisons::test_basic is using nose-specific method: `teardown(self)`\n",
            "  To remove this warning, rename it to `teardown_method(self)`\n",
            "  See docs: https://docs.pytest.org/en/stable/deprecations.html#support-for-tests-written-for-nose\n",
            "    next(it)\n",
            "\n",
            "jformat/tests/test_verify_output.py::TestLongComparisons::test_compare_large_lists_to_none\n",
            "  /home/ibad/Desktop/MLOps_Duke_Coursera/venv/lib/python3.10/site-packages/_pytest/fixtures.py:902: PytestRemovedIn8Warning: Support for nose tests is deprecated and will be removed in a future release.\n",
            "  jformat/tests/test_verify_output.py::TestLongComparisons::test_compare_large_lists_to_none is using nose-specific method: `setup(self)`\n",
            "  To remove this warning, rename it to `setup_method(self)`\n",
            "  See docs: https://docs.pytest.org/en/stable/deprecations.html#support-for-tests-written-for-nose\n",
            "    fixture_result = next(generator)\n",
            "\n",
            "jformat/tests/test_verify_output.py::TestLongComparisons::test_compare_large_lists_to_none\n",
            "  /home/ibad/Desktop/MLOps_Duke_Coursera/venv/lib/python3.10/site-packages/_pytest/fixtures.py:918: PytestRemovedIn8Warning: Support for nose tests is deprecated and will be removed in a future release.\n",
            "  jformat/tests/test_verify_output.py::TestLongComparisons::test_compare_large_lists_to_none is using nose-specific method: `teardown(self)`\n",
            "  To remove this warning, rename it to `teardown_method(self)`\n",
            "  See docs: https://docs.pytest.org/en/stable/deprecations.html#support-for-tests-written-for-nose\n",
            "    next(it)\n",
            "\n",
            "-- Docs: https://docs.pytest.org/en/stable/how-to/capture-warnings.html\n",
            "\u001b[33m======================== \u001b[32m4 passed\u001b[0m, \u001b[33m\u001b[1m6 warnings\u001b[0m\u001b[33m in 0.08s\u001b[0m\u001b[33m =========================\u001b[0m\n"
          ]
        }
      ],
      "source": [
        "!pytest barebones"
      ]
    },
    {
      "cell_type": "code",
      "execution_count": null,
      "metadata": {
        "colab": {
          "base_uri": "https://localhost:8080/"
        },
        "id": "3ZtMp20lVyHk",
        "outputId": "0c6ec4d7-f92b-4221-8e55-8a1f16390bc1"
      },
      "outputs": [
        {
          "name": "stdout",
          "output_type": "stream",
          "text": [
            "\u001b[1m============================= test session starts ==============================\u001b[0m\n",
            "platform linux2 -- Python 2.7.17, pytest-3.6.4, py-1.8.0, pluggy-0.7.1\n",
            "rootdir: /content/barebones, inifile:\n",
            "\u001b[1m\rcollecting 0 items                                                             \u001b[0m\u001b[1m\rcollecting 1 item                                                              \u001b[0m\u001b[1m\rcollecting 4 items                                                             \u001b[0m\u001b[1m\rcollecting 4 items                                                             \u001b[0m\u001b[1m\rcollecting 4 items                                                             \u001b[0m\u001b[1m\rcollected 4 items                                                              \u001b[0m\n",
            "<Module 'jformat/tests/test_main.py'>\n",
            "  <Function 'test_yes_is_true'>\n",
            "<Module 'jformat/tests/test_verify_output.py'>\n",
            "  <Class 'TestLongComparisons'>\n",
            "    <Instance '()'>\n",
            "      <Function 'test_compare_large_strings'>\n",
            "      <Function 'test_basic'>\n",
            "      <Function 'test_compare_large_lists_to_none'>\n",
            "\n",
            "\u001b[1m\u001b[33m========================= no tests ran in 0.01 seconds =========================\u001b[0m\n"
          ]
        }
      ],
      "source": [
        "!pytest --collect-only barebones"
      ]
    },
    {
      "attachments": {},
      "cell_type": "markdown",
      "metadata": {
        "id": "362hTtzlPzpm"
      },
      "source": [
        "Inspect the files around the [barebones project](https://github.com/alfredodeza/barebones). It is a simple project that sorts and prettifies JSON to `stdout` or in a file."
      ]
    }
  ],
  "metadata": {
    "colab": {
      "collapsed_sections": [],
      "name": "Introduction to Pytest.ipynb",
      "provenance": []
    },
    "kernelspec": {
      "display_name": "Python 3",
      "name": "python3"
    },
    "language_info": {
      "codemirror_mode": {
        "name": "ipython",
        "version": 3
      },
      "file_extension": ".py",
      "mimetype": "text/x-python",
      "name": "python",
      "nbconvert_exporter": "python",
      "pygments_lexer": "ipython3",
      "version": "3.10.6"
    }
  },
  "nbformat": 4,
  "nbformat_minor": 0
}
