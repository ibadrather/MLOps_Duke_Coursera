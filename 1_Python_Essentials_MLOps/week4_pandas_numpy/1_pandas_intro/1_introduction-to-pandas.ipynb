{
  "cells": [
    {
      "attachments": {},
      "cell_type": "markdown",
      "metadata": {
        "id": "CKIUTNLp5Wrn"
      },
      "source": [
        "## Introduction to Pandas\n",
        "\n",
        "Pandas is one of the most popular choices to load, visualize, clean, and apply statistical techniques to data. It is specially useful in Jupyter Notebooks as it lends itself to iterative exploration with cells."
      ]
    },
    {
      "attachments": {},
      "cell_type": "markdown",
      "metadata": {},
      "source": [
        "### Installation\n",
        "\n",
        "As always, use a virtual environment (or similar) to install pandas and its dependencies:\n",
        "\n",
        "```dotnetcli\n",
        "$ python3 -m venv venv\n",
        "$ source venv/bin/activate\n",
        "```\n",
        "\n",
        "The example above should work for Linux and OSX, but there is support for Windows systems as well. [Follow the documentation if you need help](https://docs.python.org/3/library/venv.html).\n",
        "\n",
        "The package to install is `pandas`"
      ]
    },
    {
      "cell_type": "code",
      "execution_count": 1,
      "metadata": {
        "colab": {
          "base_uri": "https://localhost:8080/"
        },
        "id": "wNlaRyzX5TCV",
        "outputId": "ea1171eb-d39a-492d-9cd7-543cd2fac173"
      },
      "outputs": [
        {
          "name": "stdout",
          "output_type": "stream",
          "text": [
            "Requirement already satisfied: pandas in /home/ibad/Desktop/MLOps_Duke_Coursera/venv/lib/python3.10/site-packages (2.0.2)\n",
            "Requirement already satisfied: pytz>=2020.1 in /home/ibad/Desktop/MLOps_Duke_Coursera/venv/lib/python3.10/site-packages (from pandas) (2023.3)\n",
            "Requirement already satisfied: tzdata>=2022.1 in /home/ibad/Desktop/MLOps_Duke_Coursera/venv/lib/python3.10/site-packages (from pandas) (2023.3)\n",
            "Requirement already satisfied: python-dateutil>=2.8.2 in /home/ibad/Desktop/MLOps_Duke_Coursera/venv/lib/python3.10/site-packages (from pandas) (2.8.2)\n",
            "Requirement already satisfied: numpy>=1.21.0 in /home/ibad/Desktop/MLOps_Duke_Coursera/venv/lib/python3.10/site-packages (from pandas) (1.24.3)\n",
            "Requirement already satisfied: six>=1.5 in /home/ibad/Desktop/MLOps_Duke_Coursera/venv/lib/python3.10/site-packages (from python-dateutil>=2.8.2->pandas) (1.16.0)\n"
          ]
        }
      ],
      "source": [
        "!pip install pandas\n"
      ]
    },
    {
      "attachments": {},
      "cell_type": "markdown",
      "metadata": {
        "id": "epd1j2QtbGkc"
      },
      "source": [
        "### Common operations in Pandas\n",
        "\n",
        "After installing, you will almost always see Pandas imported with an alias. This an other common practices in pandas are covered in this section."
      ]
    },
    {
      "cell_type": "code",
      "execution_count": 2,
      "metadata": {
        "colab": {
          "base_uri": "https://localhost:8080/",
          "height": 536
        },
        "id": "KW8ppx1oZS00",
        "outputId": "69be5221-2a49-4900-8c88-2a3cfa0ebc28"
      },
      "outputs": [
        {
          "name": "stdout",
          "output_type": "stream",
          "text": [
            "           apples  bananas  oranges\n",
            "Monday          4        2        1\n",
            "Tuesday         3        0        1\n",
            "Wednesday       1        0        0\n"
          ]
        }
      ],
      "source": [
        "import pandas as pd\n",
        "\n",
        "#list of lists\n",
        "data = [[4, 2, 1],\n",
        "        [3, 0, 1],\n",
        "        [1, 0, 0]]\n",
        "\n",
        "\n",
        "columns = ['apples', 'bananas', 'oranges']\n",
        "index = ['Monday', 'Tuesday', 'Wednesday']\n",
        "\n",
        "df = pd.DataFrame(data, index, columns)\n",
        "print(df)"
      ]
    },
    {
      "cell_type": "code",
      "execution_count": null,
      "metadata": {},
      "outputs": [],
      "source": []
    }
  ],
  "metadata": {
    "colab": {
      "name": "Untitled",
      "provenance": []
    },
    "kernelspec": {
      "display_name": "Python 3.9.7 ('bootcamp')",
      "language": "python",
      "name": "python3"
    },
    "language_info": {
      "codemirror_mode": {
        "name": "ipython",
        "version": 3
      },
      "file_extension": ".py",
      "mimetype": "text/x-python",
      "name": "python",
      "nbconvert_exporter": "python",
      "pygments_lexer": "ipython3",
      "version": "3.10.6"
    },
    "vscode": {
      "interpreter": {
        "hash": "c376c902807b3e2787a1450a7f0ef802f0b8a461bc7d6f1e24062c1624bb252f"
      }
    }
  },
  "nbformat": 4,
  "nbformat_minor": 0
}
